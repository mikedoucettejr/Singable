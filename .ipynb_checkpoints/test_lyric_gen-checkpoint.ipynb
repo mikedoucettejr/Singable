{
 "cells": [
  {
   "cell_type": "code",
   "execution_count": 2,
   "metadata": {},
   "outputs": [],
   "source": [
    "import lyric_midi"
   ]
  },
  {
   "cell_type": "code",
   "execution_count": 2,
   "metadata": {},
   "outputs": [],
   "source": [
    "import numpy as np"
   ]
  },
  {
   "cell_type": "code",
   "execution_count": 2,
   "metadata": {},
   "outputs": [
    {
     "ename": "ImportError",
     "evalue": "No module named pyfluidsynth",
     "output_type": "error",
     "traceback": [
      "\u001b[0;31m---------------------------------------------------------------------------\u001b[0m",
      "\u001b[0;31mImportError\u001b[0m                               Traceback (most recent call last)",
      "\u001b[0;32m<ipython-input-2-3d0002a5d32c>\u001b[0m in \u001b[0;36m<module>\u001b[0;34m()\u001b[0m\n\u001b[0;32m----> 1\u001b[0;31m \u001b[0;32mimport\u001b[0m \u001b[0mpyfluidsynth\u001b[0m\u001b[0;34m\u001b[0m\u001b[0m\n\u001b[0m",
      "\u001b[0;31mImportError\u001b[0m: No module named pyfluidsynth"
     ]
    }
   ],
   "source": [
    "import pyfluidsynth"
   ]
  },
  {
   "cell_type": "code",
   "execution_count": 12,
   "metadata": {},
   "outputs": [
    {
     "data": {
      "text/plain": [
       "[['One', 'One'],\n",
       " ['step', 'step'],\n",
       " ['a', 'ahead'],\n",
       " ['head', 'ahead'],\n",
       " ['i', 'is'],\n",
       " ['s', 'is'],\n",
       " ['a', 'a'],\n",
       " ['step', 'step'],\n",
       " ['too', 'too'],\n",
       " ['far', 'far'],\n",
       " ['a', 'away'],\n",
       " ['way', 'away'],\n",
       " ['from', 'from'],\n",
       " ['you', 'you']]"
      ]
     },
     "execution_count": 12,
     "metadata": {},
     "output_type": "execute_result"
    }
   ],
   "source": [
    "syl_lyr = lyric_midi.get_syl_lyric_list('One step ahead is a step too far away from you')\n",
    "syl_lyr"
   ]
  },
  {
   "cell_type": "code",
   "execution_count": 4,
   "metadata": {},
   "outputs": [
    {
     "name": "stderr",
     "output_type": "stream",
     "text": [
      "/Library/Frameworks/Python.framework/Versions/2.7/lib/python2.7/site-packages/smart_open/smart_open_lib.py:410: UserWarning: This function is deprecated, use smart_open.open instead. See the migration notes for details: https://github.com/RaRe-Technologies/smart_open/blob/master/README.rst#migrating-to-the-new-open-function\n",
      "  'See the migration notes for details: %s' % _MIGRATION_NOTES_URL\n"
     ]
    },
    {
     "name": "stdout",
     "output_type": "stream",
     "text": [
      "One\n",
      "step\n",
      "ahead\n",
      "ahead\n",
      "is\n",
      "is\n",
      "a\n",
      "step\n",
      "too\n",
      "far\n",
      "away\n",
      "away\n",
      "from\n",
      "you\n",
      "WARNING:tensorflow:From lyric_midi.py:83: The name tf.Session is deprecated. Please use tf.compat.v1.Session instead.\n",
      "\n",
      "WARNING:tensorflow:From lyric_midi.py:84: load (from tensorflow.python.saved_model.loader_impl) is deprecated and will be removed in a future version.\n",
      "Instructions for updating:\n",
      "This function will only be available through the v1 compatibility library as tf.compat.v1.saved_model.loader.load or tf.compat.v1.saved_model.load. There will be a new function for importing SavedModels in Tensorflow 2.0.\n",
      "WARNING:tensorflow:From /Library/Frameworks/Python.framework/Versions/2.7/lib/python2.7/site-packages/tensorflow/python/training/saver.py:1276: checkpoint_exists (from tensorflow.python.training.checkpoint_management) is deprecated and will be removed in a future version.\n",
      "Instructions for updating:\n",
      "Use standard file APIs to check for files with this prefix.\n",
      "INFO:tensorflow:Restoring parameters from assets/data/saved_gan_models/1August/epochs_models/model_epoch395/variables/variables\n",
      "WARNING:tensorflow:From lyric_midi.py:85: The name tf.get_default_graph is deprecated. Please use tf.compat.v1.get_default_graph instead.\n",
      "\n"
     ]
    }
   ],
   "source": [
    "pm_file = lyric_midi.lyric_to_midi('One step ahead is a step too far away from you')"
   ]
  },
  {
   "cell_type": "code",
   "execution_count": 6,
   "metadata": {},
   "outputs": [
    {
     "data": {
      "text/plain": [
       "20"
      ]
     },
     "execution_count": 6,
     "metadata": {},
     "output_type": "execute_result"
    }
   ],
   "source": [
    "len(pm_file)"
   ]
  },
  {
   "cell_type": "code",
   "execution_count": 8,
   "metadata": {},
   "outputs": [],
   "source": [
    "import pretty_midi"
   ]
  },
  {
   "cell_type": "code",
   "execution_count": 57,
   "metadata": {},
   "outputs": [],
   "source": [
    "def create_midi_pattern_w_lyric(discretized_sample, lyrics):\n",
    "    new_midi = pretty_midi.PrettyMIDI()\n",
    "    bass = pretty_midi.Instrument(33)  # It's here to change the used instruments !\n",
    "    treble = pretty_midi.Instrument(21)  # It's here to change the used instruments !\n",
    "    tempo = 120\n",
    "    ActualTime = 0  # Time since the beginning of the song, in seconds\n",
    "    for i in range(0,len(discretized_sample)):\n",
    "        length = discretized_sample[i][1] * 60 / tempo  # Conversion Duration to Time\n",
    "        if i < len(discretized_sample) - 1:\n",
    "            gap = discretized_sample[i + 1][2] * 60 / tempo\n",
    "        else:\n",
    "            gap = 0  # The Last element doesn't have a gap\n",
    "        bass_note = pretty_midi.Note(velocity=100, pitch=int(discretized_sample[i][0]), start=ActualTime,\n",
    "                                end=ActualTime + length)\n",
    "        bass.notes.append(bass_note)\n",
    "        treble_note = pretty_midi.Note(velocity=100, pitch=int(discretized_sample[i][0]-12), start=ActualTime,\n",
    "                                end=ActualTime + length)\n",
    "        treble.notes.append(treble_note)\n",
    "        \n",
    "        if i < len(lyrics): \n",
    "            lyric_obj = pretty_midi.Lyric(lyrics[i][0], ActualTime)\n",
    "            new_midi.lyrics.append(lyric_obj)\n",
    "            #print(lyric_obj)\n",
    "            \n",
    "        ActualTime += length + gap  # Update of the time\n",
    "\n",
    "    new_midi.instruments.append(bass)\n",
    "    new_midi.instruments.append(treble)\n",
    "\n",
    "    return new_midi"
   ]
  },
  {
   "cell_type": "code",
   "execution_count": 58,
   "metadata": {},
   "outputs": [],
   "source": [
    "pm_midi = create_midi_pattern_w_lyric(pm_file, syl_lyr)"
   ]
  },
  {
   "cell_type": "code",
   "execution_count": 59,
   "metadata": {},
   "outputs": [
    {
     "data": {
      "text/plain": [
       "87.27272727272727"
      ]
     },
     "execution_count": 59,
     "metadata": {},
     "output_type": "execute_result"
    }
   ],
   "source": [
    "pm_midi.estimate_tempo()"
   ]
  },
  {
   "cell_type": "code",
   "execution_count": 60,
   "metadata": {},
   "outputs": [],
   "source": [
    "audio_data = pm_midi.synthesize()"
   ]
  },
  {
   "cell_type": "code",
   "execution_count": 61,
   "metadata": {},
   "outputs": [
    {
     "data": {
      "text/plain": [
       "numpy.ndarray"
      ]
     },
     "execution_count": 61,
     "metadata": {},
     "output_type": "execute_result"
    }
   ],
   "source": [
    "type(audio_data)"
   ]
  },
  {
   "cell_type": "code",
   "execution_count": 62,
   "metadata": {},
   "outputs": [],
   "source": [
    "import scipy.io.wavfile as wavf\n",
    "import numpy as np\n",
    "\n",
    "fs = 44100\n",
    "out_f = 'out.wav'\n",
    "\n",
    "wavf.write(out_f, fs, audio_data)"
   ]
  },
  {
   "cell_type": "code",
   "execution_count": 12,
   "metadata": {},
   "outputs": [],
   "source": [
    "pm = pretty_midi.PrettyMIDI(initial_tempo=80)"
   ]
  },
  {
   "cell_type": "code",
   "execution_count": 17,
   "metadata": {},
   "outputs": [],
   "source": [
    "inst = pretty_midi.Instrument(program=42, is_drum=False, name='my cello')\n",
    "pm.instruments.append(inst)"
   ]
  },
  {
   "cell_type": "code",
   "execution_count": 18,
   "metadata": {},
   "outputs": [
    {
     "data": {
      "text/plain": [
       "[Instrument(program=42, is_drum=False, name=\"my cello\")]"
      ]
     },
     "execution_count": 18,
     "metadata": {},
     "output_type": "execute_result"
    }
   ],
   "source": [
    "pm.instruments"
   ]
  },
  {
   "cell_type": "code",
   "execution_count": null,
   "metadata": {},
   "outputs": [],
   "source": []
  }
 ],
 "metadata": {
  "kernelspec": {
   "display_name": "Python 2",
   "language": "python",
   "name": "python2"
  },
  "language_info": {
   "codemirror_mode": {
    "name": "ipython",
    "version": 2
   },
   "file_extension": ".py",
   "mimetype": "text/x-python",
   "name": "python",
   "nbconvert_exporter": "python",
   "pygments_lexer": "ipython2",
   "version": "2.7.17"
  },
  "toc": {
   "base_numbering": 1,
   "nav_menu": {},
   "number_sections": true,
   "sideBar": true,
   "skip_h1_title": false,
   "title_cell": "Table of Contents",
   "title_sidebar": "Contents",
   "toc_cell": false,
   "toc_position": {},
   "toc_section_display": true,
   "toc_window_display": false
  }
 },
 "nbformat": 4,
 "nbformat_minor": 2
}
